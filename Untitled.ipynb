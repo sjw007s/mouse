{
 "cells": [
  {
   "cell_type": "code",
   "execution_count": 1,
   "metadata": {},
   "outputs": [
    {
     "name": "stdout",
     "output_type": "stream",
     "text": [
      "Result: 6105\n"
     ]
    }
   ],
   "source": [
    "from threading import Thread\n",
    "\n",
    "def work(id, start, end, result):\n",
    "    total = 0\n",
    "    for i in range(start, end):\n",
    "        total += i\n",
    "    result.append(total)\n",
    "    return\n",
    "\n",
    "if __name__ == \"__main__\":\n",
    "    START, END = 0, 111\n",
    "    result = list()\n",
    "    th1 = Thread(target=work, args=(1, START, END, result))\n",
    "    \n",
    "    th1.start()\n",
    "    th1.join()\n",
    "\n",
    "print(f\"Result: {sum(result)}\")"
   ]
  },
  {
   "cell_type": "code",
   "execution_count": 50,
   "metadata": {},
   "outputs": [
    {
     "name": "stdout",
     "output_type": "stream",
     "text": [
      "[2 4]\n",
      "[[4 4]\n",
      " [2 2]]\n",
      "(2, 2) (2,)\n",
      "(array([0, 0, 1, 1], dtype=int64), array([0, 1, 0, 1], dtype=int64))\n",
      "[2 2]\n",
      "[3 7]\n",
      "(array([0, 0], dtype=int64), array([0, 1], dtype=int64))\n",
      "[2 4]\n",
      "3\n"
     ]
    }
   ],
   "source": [
    "import numpy as np\n",
    "a = np.array([[1,2],[3,4]])\n",
    "b = np.array([5,6])\n",
    "print(np.max(a,axis=1))\n",
    "print(b-a)\n",
    "print(a.shape,b.shape)\n",
    "print(np.where(a<8))\n",
    "print(np.sum(np.where(a<6),axis=1))\n",
    "print(np.sum(a,axis=1))\n",
    "print(np.where(a<3))\n",
    "t = ([0,1],np.array([1,1]))\n",
    "print(a[t])\n",
    "print(a[1][0])"
   ]
  }
 ],
 "metadata": {
  "kernelspec": {
   "display_name": "Python 3",
   "language": "python",
   "name": "python3"
  },
  "language_info": {
   "codemirror_mode": {
    "name": "ipython",
    "version": 3
   },
   "file_extension": ".py",
   "mimetype": "text/x-python",
   "name": "python",
   "nbconvert_exporter": "python",
   "pygments_lexer": "ipython3",
   "version": "3.8.8"
  }
 },
 "nbformat": 4,
 "nbformat_minor": 4
}
