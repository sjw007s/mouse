{
 "cells": [
  {
   "cell_type": "code",
   "execution_count": 5,
   "metadata": {},
   "outputs": [
    {
     "name": "stdout",
     "output_type": "stream",
     "text": [
      "640.0 480.0 0.0\n"
     ]
    },
    {
     "data": {
      "text/plain": [
       "-1"
      ]
     },
     "execution_count": 5,
     "metadata": {},
     "output_type": "execute_result"
    }
   ],
   "source": [
    "import cv2 as cv\n",
    "capture = cv.VideoCapture(cv.CAP_DSHOW) #open camera\n",
    "ret, frame = capture.read() #read camera's input\n",
    "width = capture.get(cv.CAP_PROP_FRAME_WIDTH) #obtain width\n",
    "height = capture.get(cv.CAP_PROP_FRAME_HEIGHT) #obtain height\n",
    "fps = capture.get(cv.CAP_PROP_FPS) #obtain fps\n",
    "#capture.set(cv.CV_CAP_PROP_FRAME_WIDTH, 1920)\n",
    "#capture.set(cv.CV_CAP_PROP_FRAME_HEIGHT, 1080)\n",
    "print(width, height, fps)\n",
    "img_draw = frame.copy()\n",
    "img_draw = cv.cvtColor(img_draw, cv.COLOR_BGR2HSV)\n",
    "cv.imshow('3', img_draw)\n",
    "dst1 = cv.inRange(img_draw, (0, 128, 0), (100, 255, 100))\n",
    "dst2 = cv.inRange(img_draw, (50, 150, 0), (80, 255, 255))\n",
    "\n",
    "#cv.imshow('src', src)\n",
    "cv.imshow('dst1', dst1)\n",
    "cv.imshow('dst2', dst2)\n",
    "cv.waitKey(0)"
   ]
  }
 ],
 "metadata": {
  "kernelspec": {
   "display_name": "Python 3",
   "language": "python",
   "name": "python3"
  },
  "language_info": {
   "codemirror_mode": {
    "name": "ipython",
    "version": 3
   },
   "file_extension": ".py",
   "mimetype": "text/x-python",
   "name": "python",
   "nbconvert_exporter": "python",
   "pygments_lexer": "ipython3",
   "version": "3.8.8"
  }
 },
 "nbformat": 4,
 "nbformat_minor": 4
}
